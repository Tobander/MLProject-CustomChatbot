{
 "cells": [
  {
   "cell_type": "markdown",
   "id": "eb11f14f",
   "metadata": {},
   "source": [
    "# 00 Import Libraries"
   ]
  },
  {
   "cell_type": "code",
   "execution_count": 1,
   "id": "3a6c767a",
   "metadata": {},
   "outputs": [],
   "source": [
    "from openai import OpenAI\n",
    "import numpy as np\n",
    "import json\n",
    "from sklearn.metrics.pairwise import cosine_similarity\n",
    "from time import sleep\n",
    "import secrets\n",
    "from flask import Flask, render_template, request, jsonify, session\n",
    "from flask_session import Session"
   ]
  },
  {
   "cell_type": "markdown",
   "id": "de3eade8",
   "metadata": {},
   "source": [
    "# 01 Functions"
   ]
  },
  {
   "cell_type": "code",
   "execution_count": 3,
   "id": "92d05ac0",
   "metadata": {},
   "outputs": [],
   "source": [
    "# FUNCTION TO OPEN FILES\n",
    "def open_file(filepath):\n",
    "    with open(filepath, 'r', encoding='utf-8') as infile:\n",
    "        return infile.read()\n",
    "    \n",
    "# FUNCTION TO CALCULATE SIMILARITY AND RETURN BEST MATCH\n",
    "def similarity(question_embedding):\n",
    "    \n",
    "    # LOAD BOOKS FROM JSON FILE\n",
    "    with open('json/books_info_embeddings.json', 'r') as f:\n",
    "        products = json.load(f)\n",
    "     \n",
    "    # CALCULATE SIMILARITY BETWEEN QUESTION AND BOOKS\n",
    "    best_match = None\n",
    "    best_similarity = -1\n",
    "    \n",
    "    # LOOP THRU ALL BOOKS\n",
    "    for product in products:\n",
    "\n",
    "        product_embedding = np.array(product['text_embedding'])\n",
    "        similarity = cosine_similarity([question_embedding], [product_embedding])[0][0]\n",
    "        \n",
    "        if similarity > best_similarity:\n",
    "            best_similarity = similarity\n",
    "            best_match = product\n",
    "    \n",
    "    # PREPARE SYSTEM MESSAGE WITH DETAILS ABOUT BEST MATCHING BOOK\n",
    "    best_match_system = f\"\"\"BOOK: {best_match['book_title']}\n",
    "    CATEGORY: {best_match['book_category']}\n",
    "    DESCRIPTION: {best_match['book_description']}\n",
    "    RATING: {best_match['book_rating']}\n",
    "    PRICE: {best_match['book_price']}\n",
    "    AVAILABILITY: {best_match['book_availability']}\"\"\"\n",
    "    \n",
    "    return best_match_system\n",
    "\n",
    "# FUNCTION TO CALL GPT CHATMODEL\n",
    "def chatbot(messages, model=\"gpt-4-turbo-preview\"):\n",
    "    max_retry = 7\n",
    "    retry = 0\n",
    "    while True:\n",
    "        try:\n",
    "            response = client.chat.completions.create(model=model, messages=messages, temperature=0, max_tokens=1000, top_p=1, frequency_penalty=0, presence_penalty=0)\n",
    "            return response\n",
    "        except Exception as oops:\n",
    "            print(f'\\n\\nError communicating with OpenAI: \"{oops}\"')\n",
    "            if 'maximum context length' in str(oops):\n",
    "                print('\\n\\n DEBUG: Trimming oldest message')\n",
    "                continue\n",
    "            retry += 1\n",
    "            if retry >= max_retry:\n",
    "                print(f\"\\n\\nExiting due to excessive errors in API: {oops}\")\n",
    "                exit(1)\n",
    "            print(f'\\n\\nRetrying in {2 ** (retry - 1) * 5} seconds...')\n",
    "            sleep(2 ** (retry - 1) * 5)"
   ]
  },
  {
   "cell_type": "markdown",
   "id": "704dfdf5",
   "metadata": {},
   "source": [
    "# 02 Credentials"
   ]
  },
  {
   "cell_type": "code",
   "execution_count": 4,
   "id": "814513bb",
   "metadata": {},
   "outputs": [],
   "source": [
    "# LOAD OPENAI CREDENTIALS AND SYSTEM/USER MESSAGE\n",
    "client = OpenAI(api_key=open_file('keys/openaiapikey.txt'))\n",
    "system = open_file('prompts/system.txt')\n",
    "user = open_file('prompts/user.txt')"
   ]
  },
  {
   "cell_type": "markdown",
   "id": "2411bd7a",
   "metadata": {},
   "source": [
    "# 03 Flask App"
   ]
  },
  {
   "cell_type": "code",
   "execution_count": 5,
   "id": "b1b00219",
   "metadata": {},
   "outputs": [],
   "source": [
    "# FLASK APP\n",
    "app = Flask(__name__)\n",
    "secret_key = secrets.token_hex(16)\n",
    "app.secret_key = secret_key\n",
    "app.config[\"SESSION_PERMANENT\"] = False\n",
    "app.config[\"SESSION_TYPE\"] = \"filesystem\"\n",
    "Session(app)\n",
    "\n",
    "# APP\n",
    "@app.route(\"/\")\n",
    "def index():\n",
    "\n",
    "    if request.method == 'GET':\n",
    "        session.clear()\n",
    "\n",
    "    return render_template(\"index_V2.html\")\n",
    "\n",
    "@app.route('/get', methods=['POST'])\n",
    "def get_bot_response():\n",
    "    \n",
    "    # USER INPUT EINLESEN\n",
    "    user_input = request.json['message']\n",
    "    \n",
    "    # SESSION MESSAGES INITIALISIEREN\n",
    "    if 'MESSAGES' not in session:\n",
    "        session['MESSAGES'] = [{\"role\": \"system\", \"content\": system}]\n",
    "        \n",
    "        # RECOMMENDATIONS FÜR USER INPUT\n",
    "        question_embedding = client.embeddings.create(input=user_input, model=\"text-embedding-3-small\").data[0].embedding\n",
    "        best_match_system = similarity(question_embedding)\n",
    "        \n",
    "        # RECOMMENDATION ANHÄNGEN\n",
    "        session['MESSAGES'].append({\"role\": \"user\", \"content\": f\"{user}{best_match_system}\"})\n",
    "        session['MESSAGES'].append({\"role\": \"assistant\", \"content\": \"Ich lese\"})\n",
    "        \n",
    "    # USER INPUT AN MESSAGES ANHÄNGEN\n",
    "    session['MESSAGES'].append({\"role\": \"user\", \"content\": user_input})\n",
    "        \n",
    "    # GPT AUFRUFEN\n",
    "    response = chatbot(session['MESSAGES'])\n",
    "        \n",
    "    # GPT RESPONSE AN CONVERSATION ANHÄNGEN\n",
    "    last_bot_message = response.choices[0].message.content\n",
    "    session['MESSAGES'].append({'role': 'assistant', 'content': last_bot_message})\n",
    "    \n",
    "    # SESSION MESSAGES SPEICHERN\n",
    "    session.modified = True\n",
    "    \n",
    "    # Response als JSON zurückgeben\n",
    "    return jsonify(message=last_bot_message)"
   ]
  },
  {
   "cell_type": "markdown",
   "id": "91bd906b",
   "metadata": {},
   "source": [
    "# 04 Run the App"
   ]
  },
  {
   "cell_type": "code",
   "execution_count": 7,
   "id": "5a1da4c2",
   "metadata": {},
   "outputs": [
    {
     "name": "stdout",
     "output_type": "stream",
     "text": [
      " * Serving Flask app '__main__'\n",
      " * Debug mode: off\n"
     ]
    },
    {
     "name": "stderr",
     "output_type": "stream",
     "text": [
      "WARNING: This is a development server. Do not use it in a production deployment. Use a production WSGI server instead.\n",
      " * Running on all addresses (0.0.0.0)\n",
      " * Running on http://127.0.0.1:8083\n",
      " * Running on http://192.168.178.153:8083\n",
      "Press CTRL+C to quit\n",
      "127.0.0.1 - - [10/Apr/2024 10:25:06] \"GET / HTTP/1.1\" 200 -\n",
      "127.0.0.1 - - [10/Apr/2024 10:25:06] \"GET /static/css/style_gpt.css HTTP/1.1\" 304 -\n",
      "127.0.0.1 - - [10/Apr/2024 10:25:06] \"GET /static/images/start-logo.png HTTP/1.1\" 304 -\n",
      "127.0.0.1 - - [10/Apr/2024 10:25:06] \"GET /static/images/br-logo.png HTTP/1.1\" 304 -\n",
      "127.0.0.1 - - [10/Apr/2024 10:25:06] \"GET /static/js/chat.js HTTP/1.1\" 304 -\n",
      "127.0.0.1 - - [10/Apr/2024 10:25:06] \"GET /static/fonts/Korb-Bold.woff2 HTTP/1.1\" 304 -\n"
     ]
    }
   ],
   "source": [
    "if __name__ == \"__main__\":\n",
    "    port = 8083\n",
    "    app.run(host='0.0.0.0', port=port)"
   ]
  },
  {
   "cell_type": "code",
   "execution_count": null,
   "id": "1d22847c-8b61-4b2c-8238-29a3f2853476",
   "metadata": {},
   "outputs": [],
   "source": []
  }
 ],
 "metadata": {
  "kernelspec": {
   "display_name": "Python 3 (ipykernel)",
   "language": "python",
   "name": "python3"
  },
  "language_info": {
   "codemirror_mode": {
    "name": "ipython",
    "version": 3
   },
   "file_extension": ".py",
   "mimetype": "text/x-python",
   "name": "python",
   "nbconvert_exporter": "python",
   "pygments_lexer": "ipython3",
   "version": "3.11.7"
  }
 },
 "nbformat": 4,
 "nbformat_minor": 5
}
