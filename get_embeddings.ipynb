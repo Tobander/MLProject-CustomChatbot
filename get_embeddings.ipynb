{
 "cells": [
  {
   "cell_type": "markdown",
   "id": "c375b7a4",
   "metadata": {},
   "source": [
    "# 00 Import Libraries\n",
    "We need `Pandas` to read in Data and `openai` to get the Embeddings."
   ]
  },
  {
   "cell_type": "code",
   "execution_count": 1,
   "id": "6d91833a",
   "metadata": {},
   "outputs": [],
   "source": [
    "import pandas as pd\n",
    "from openai import OpenAI"
   ]
  },
  {
   "cell_type": "markdown",
   "id": "0571c313",
   "metadata": {},
   "source": [
    "# 01 Functions\n",
    "We need a function to open Files and a function to return the Embeddings of our Data. \n",
    "\n",
    "The function named <code>get_embedding</code> takes two arguments: `text`and `model`:<br><br>\n",
    "<ol>\n",
    "    <li><strong>Text Processing:</strong> The function first processes the `text` argument by replacing newline characters (`\\n`) with spaces so that the input text is in a single line.</li>\n",
    "<li><strong>Generate Embeddings</strong> We then call `embeddings_create` with our list containing the processed text and the model we want to use to get the Embeddings.</li>\n",
    "<li><strong>Return Embeddings</strong> We access the first element from our list to get return the Embedding four our input text.</li>\n",
    "</ol>"
   ]
  },
  {
   "cell_type": "code",
   "execution_count": 2,
   "id": "6f0cad87",
   "metadata": {},
   "outputs": [],
   "source": [
    "# FUNCTION TO OPEN FILES\n",
    "def open_file(filepath):\n",
    "    with open(filepath, 'r', encoding='utf-8') as infile:\n",
    "        return infile.read()\n",
    "\n",
    "# FUNCTION TO GET EMBEDDINGS\n",
    "def get_embedding(text, model):\n",
    "   text = text.replace(\"\\n\", \" \")\n",
    "   return client.embeddings.create(input = [text], model=model).data[0].embedding"
   ]
  },
  {
   "cell_type": "markdown",
   "id": "509dad5e",
   "metadata": {},
   "source": [
    "# 02 Credentials\n",
    "As we are going to using OpenAI's Embedding model `text-embedding-3-small` we need a valif OpenAi key."
   ]
  },
  {
   "cell_type": "code",
   "execution_count": 4,
   "id": "31a7784d",
   "metadata": {},
   "outputs": [],
   "source": [
    "# LOAD OPENAI CREDENTIALS\n",
    "client = OpenAI(api_key=open_file('KEYS/openaiapikey.txt'))"
   ]
  },
  {
   "cell_type": "markdown",
   "id": "0cd8972c",
   "metadata": {},
   "source": [
    "# 03 Read in Data\n",
    "We now need to load our database which we have saved in a JSON file."
   ]
  },
  {
   "cell_type": "code",
   "execution_count": 9,
   "id": "d6822aac",
   "metadata": {},
   "outputs": [],
   "source": [
    "# READ JSON INTO DATAFRAME\n",
    "df = pd.read_json('json/books_info.json', encoding='utf-8')"
   ]
  },
  {
   "cell_type": "markdown",
   "id": "c6cd92a1",
   "metadata": {},
   "source": [
    "# 04 Get Embeddings\n",
    "Now we call our `get_embeddings`method for all book descriptions in our database and save them in a new column **text_embedding**.<br><br> <strong><em>CAUTION: This may take a while!</em></strong>"
   ]
  },
  {
   "cell_type": "code",
   "execution_count": 10,
   "id": "b1cdb6c7",
   "metadata": {},
   "outputs": [],
   "source": [
    "# GET EMEBDDINGS FOR DATABASE\n",
    "df['text_embedding'] = df.book_description.apply(lambda x: get_embedding(x, model='text-embedding-3-small'))"
   ]
  },
  {
   "cell_type": "markdown",
   "id": "d34558a5",
   "metadata": {},
   "source": [
    "# 05 Save Embeddings\n",
    "Lastly we save everything back into a new local JSON file."
   ]
  },
  {
   "cell_type": "code",
   "execution_count": 11,
   "id": "9096fb34",
   "metadata": {},
   "outputs": [],
   "source": [
    "# SAVE EMBEDDINGS IN NEW JSON\n",
    "with open('json/books_info_embeddings.json', 'w', encoding='utf-8') as file:\n",
    "    df.to_json(file, orient='records', indent=4, force_ascii=False)"
   ]
  }
 ],
 "metadata": {
  "kernelspec": {
   "display_name": "Python 3 (ipykernel)",
   "language": "python",
   "name": "python3"
  },
  "language_info": {
   "codemirror_mode": {
    "name": "ipython",
    "version": 3
   },
   "file_extension": ".py",
   "mimetype": "text/x-python",
   "name": "python",
   "nbconvert_exporter": "python",
   "pygments_lexer": "ipython3",
   "version": "3.11.5"
  }
 },
 "nbformat": 4,
 "nbformat_minor": 5
}
