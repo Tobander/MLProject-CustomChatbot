{
 "cells": [
  {
   "cell_type": "markdown",
   "id": "eb11f14f",
   "metadata": {},
   "source": [
    "# 00 Import Libraries"
   ]
  },
  {
   "cell_type": "code",
   "execution_count": 1,
   "id": "3a6c767a",
   "metadata": {},
   "outputs": [],
   "source": [
    "from openai import OpenAI\n",
    "import numpy as np\n",
    "import json\n",
    "from sklearn.metrics.pairwise import cosine_similarity\n",
    "from flask import Flask, render_template, request"
   ]
  },
  {
   "cell_type": "markdown",
   "id": "de3eade8",
   "metadata": {},
   "source": [
    "# 01 Functions"
   ]
  },
  {
   "cell_type": "code",
   "execution_count": 2,
   "id": "92d05ac0",
   "metadata": {},
   "outputs": [],
   "source": [
    "# FUNCTION TO OPEN FILES\n",
    "def open_file(filepath):\n",
    "    with open(filepath, 'r', encoding='utf-8') as infile:\n",
    "        return infile.read()\n",
    "    \n",
    "# FUNCTION TO CALCULATE SIMILARITY AND RETURN BEST MATCH\n",
    "def similarity(question_embedding):\n",
    "    \n",
    "    # LOAD BOOKS FROM JSON FILE\n",
    "    with open('json/books_info_embeddings.json', 'r') as f:\n",
    "        products = json.load(f)\n",
    "     \n",
    "    # CALCULATE SIMILARITY BETWEEN QUESTION AND BOOKS\n",
    "    best_match = None\n",
    "    best_similarity = -1\n",
    "    \n",
    "    # LOOP THRU ALL BOOKS\n",
    "    for product in products:\n",
    "\n",
    "        product_embedding = np.array(product['text_embedding'])\n",
    "        similarity = cosine_similarity([question_embedding], [product_embedding])[0][0]\n",
    "        \n",
    "        if similarity > best_similarity:\n",
    "            best_similarity = similarity\n",
    "            best_match = product\n",
    "    \n",
    "    # PREPARE SYSTEM MESSAGE WITH DETAILS ABOUT BEST MATCHING BOOK\n",
    "    best_match_system = f\"\"\"BOOK: {best_match['book_title']}\n",
    "    CATEGORY: {best_match['book_category']}\n",
    "    DESCRIPTION: {best_match['book_description']}\n",
    "    RATING: {best_match['book_rating']}\n",
    "    PRICE: {best_match['book_price']}\n",
    "    AVAILABILITY: {best_match['book_availability']}\"\"\"\n",
    "    \n",
    "    return best_match_system"
   ]
  },
  {
   "cell_type": "markdown",
   "id": "704dfdf5",
   "metadata": {},
   "source": [
    "# 02 Credentials"
   ]
  },
  {
   "cell_type": "code",
   "execution_count": 3,
   "id": "814513bb",
   "metadata": {},
   "outputs": [],
   "source": [
    "# LOAD OPENAI CREDENTIALS AND SYSTEM MESSAGE\n",
    "client = OpenAI(api_key=open_file('keys/openaiapikey.txt'))\n",
    "system = open_file('prompts/system.txt')"
   ]
  },
  {
   "cell_type": "markdown",
   "id": "2411bd7a",
   "metadata": {},
   "source": [
    "# 03 Flask App"
   ]
  },
  {
   "cell_type": "code",
   "execution_count": 4,
   "id": "b1b00219",
   "metadata": {},
   "outputs": [],
   "source": [
    "# FLASK APP\n",
    "app = Flask(__name__)\n",
    "\n",
    "# APP\n",
    "@app.route(\"/\")\n",
    "def index():\n",
    "\n",
    "    return render_template(\"index.html\")\n",
    "\n",
    "@app.route('/get', methods=['POST'])\n",
    "def get_bot_response():\n",
    "    \n",
    "    # READ USER INPUT\n",
    "    user_input = request.form['user_input']\n",
    "    \n",
    "    # RECOMMENDATIONS FÜR USER INPUT\n",
    "    question_embedding = client.embeddings.create(input=user_input, model=\"text-embedding-3-small\").data[0].embedding\n",
    "    best_match_system = similarity(question_embedding)\n",
    "    \n",
    "    # RETURN RESPONSE\n",
    "    return render_template(\"index.html\", response_area=best_match_system)"
   ]
  },
  {
   "cell_type": "markdown",
   "id": "91bd906b",
   "metadata": {},
   "source": [
    "# 04 Run the App"
   ]
  },
  {
   "cell_type": "code",
   "execution_count": 5,
   "id": "5a1da4c2",
   "metadata": {},
   "outputs": [
    {
     "name": "stdout",
     "output_type": "stream",
     "text": [
      " * Serving Flask app '__main__'\n",
      " * Debug mode: off\n"
     ]
    },
    {
     "name": "stderr",
     "output_type": "stream",
     "text": [
      "WARNING: This is a development server. Do not use it in a production deployment. Use a production WSGI server instead.\n",
      " * Running on all addresses (0.0.0.0)\n",
      " * Running on http://127.0.0.1:8083\n",
      " * Running on http://192.168.41.162:8083\n",
      "Press CTRL+C to quit\n",
      "127.0.0.1 - - [08/Mar/2024 16:45:39] \"GET / HTTP/1.1\" 200 -\n",
      "127.0.0.1 - - [08/Mar/2024 16:46:03] \"POST /get HTTP/1.1\" 200 -\n",
      "127.0.0.1 - - [08/Mar/2024 16:47:02] \"POST /get HTTP/1.1\" 200 -\n",
      "127.0.0.1 - - [08/Mar/2024 16:47:15] \"POST /get HTTP/1.1\" 200 -\n",
      "127.0.0.1 - - [08/Mar/2024 16:47:30] \"POST /get HTTP/1.1\" 200 -\n",
      "127.0.0.1 - - [08/Mar/2024 16:47:37] \"GET /get HTTP/1.1\" 405 -\n",
      "127.0.0.1 - - [08/Mar/2024 16:47:39] \"GET / HTTP/1.1\" 200 -\n"
     ]
    }
   ],
   "source": [
    "port = 8083\n",
    "app.run(host='0.0.0.0', port=port)"
   ]
  }
 ],
 "metadata": {
  "kernelspec": {
   "display_name": "Python 3 (ipykernel)",
   "language": "python",
   "name": "python3"
  },
  "language_info": {
   "codemirror_mode": {
    "name": "ipython",
    "version": 3
   },
   "file_extension": ".py",
   "mimetype": "text/x-python",
   "name": "python",
   "nbconvert_exporter": "python",
   "pygments_lexer": "ipython3",
   "version": "3.11.5"
  }
 },
 "nbformat": 4,
 "nbformat_minor": 5
}
